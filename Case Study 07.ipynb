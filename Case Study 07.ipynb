{
 "cells": [
  {
   "cell_type": "code",
   "execution_count": 115,
   "id": "fa56749b",
   "metadata": {},
   "outputs": [],
   "source": [
    "import pandas as pd\n",
    "import numpy as np\n",
    "import matplotlib.pyplot as plt\n",
    "import seaborn as sns"
   ]
  },
  {
   "cell_type": "code",
   "execution_count": 116,
   "id": "bbe243f8",
   "metadata": {},
   "outputs": [],
   "source": [
    "data = pd.read_excel('iris.xls')"
   ]
  },
  {
   "cell_type": "code",
   "execution_count": 117,
   "id": "5f1999b7",
   "metadata": {},
   "outputs": [
    {
     "data": {
      "text/html": [
       "<div>\n",
       "<style scoped>\n",
       "    .dataframe tbody tr th:only-of-type {\n",
       "        vertical-align: middle;\n",
       "    }\n",
       "\n",
       "    .dataframe tbody tr th {\n",
       "        vertical-align: top;\n",
       "    }\n",
       "\n",
       "    .dataframe thead th {\n",
       "        text-align: right;\n",
       "    }\n",
       "</style>\n",
       "<table border=\"1\" class=\"dataframe\">\n",
       "  <thead>\n",
       "    <tr style=\"text-align: right;\">\n",
       "      <th></th>\n",
       "      <th>SL</th>\n",
       "      <th>SW</th>\n",
       "      <th>PL</th>\n",
       "      <th>PW</th>\n",
       "      <th>Classification</th>\n",
       "    </tr>\n",
       "  </thead>\n",
       "  <tbody>\n",
       "    <tr>\n",
       "      <th>0</th>\n",
       "      <td>5.1</td>\n",
       "      <td>3.5</td>\n",
       "      <td>1.4</td>\n",
       "      <td>0.2</td>\n",
       "      <td>Iris-setosa</td>\n",
       "    </tr>\n",
       "    <tr>\n",
       "      <th>1</th>\n",
       "      <td>4.9</td>\n",
       "      <td>3.0</td>\n",
       "      <td>1.4</td>\n",
       "      <td>0.2</td>\n",
       "      <td>Iris-setosa</td>\n",
       "    </tr>\n",
       "    <tr>\n",
       "      <th>2</th>\n",
       "      <td>NaN</td>\n",
       "      <td>3.2</td>\n",
       "      <td>1.3</td>\n",
       "      <td>0.2</td>\n",
       "      <td>Iris-setosa</td>\n",
       "    </tr>\n",
       "    <tr>\n",
       "      <th>3</th>\n",
       "      <td>4.6</td>\n",
       "      <td>3.1</td>\n",
       "      <td>1.5</td>\n",
       "      <td>0.2</td>\n",
       "      <td>Iris-setosa</td>\n",
       "    </tr>\n",
       "    <tr>\n",
       "      <th>4</th>\n",
       "      <td>5.0</td>\n",
       "      <td>3.6</td>\n",
       "      <td>1.4</td>\n",
       "      <td>0.2</td>\n",
       "      <td>Iris-setosa</td>\n",
       "    </tr>\n",
       "  </tbody>\n",
       "</table>\n",
       "</div>"
      ],
      "text/plain": [
       "    SL   SW   PL   PW Classification\n",
       "0  5.1  3.5  1.4  0.2    Iris-setosa\n",
       "1  4.9  3.0  1.4  0.2    Iris-setosa\n",
       "2  NaN  3.2  1.3  0.2    Iris-setosa\n",
       "3  4.6  3.1  1.5  0.2    Iris-setosa\n",
       "4  5.0  3.6  1.4  0.2    Iris-setosa"
      ]
     },
     "execution_count": 117,
     "metadata": {},
     "output_type": "execute_result"
    }
   ],
   "source": [
    "data.head()"
   ]
  },
  {
   "cell_type": "code",
   "execution_count": 118,
   "id": "bf608119",
   "metadata": {},
   "outputs": [
    {
     "name": "stdout",
     "output_type": "stream",
     "text": [
      "<class 'pandas.core.frame.DataFrame'>\n",
      "RangeIndex: 150 entries, 0 to 149\n",
      "Data columns (total 5 columns):\n",
      " #   Column          Non-Null Count  Dtype  \n",
      "---  ------          --------------  -----  \n",
      " 0   SL              143 non-null    float64\n",
      " 1   SW              144 non-null    float64\n",
      " 2   PL              144 non-null    float64\n",
      " 3   PW              150 non-null    float64\n",
      " 4   Classification  150 non-null    object \n",
      "dtypes: float64(4), object(1)\n",
      "memory usage: 6.0+ KB\n"
     ]
    }
   ],
   "source": [
    "data.info()"
   ]
  },
  {
   "cell_type": "code",
   "execution_count": 119,
   "id": "9f933538",
   "metadata": {},
   "outputs": [
    {
     "data": {
      "text/plain": [
       "(150, 5)"
      ]
     },
     "execution_count": 119,
     "metadata": {},
     "output_type": "execute_result"
    }
   ],
   "source": [
    "data.shape"
   ]
  },
  {
   "cell_type": "code",
   "execution_count": 120,
   "id": "0650eeb8",
   "metadata": {},
   "outputs": [
    {
     "data": {
      "text/plain": [
       "Index(['SL', 'SW', 'PL', 'PW', 'Classification'], dtype='object')"
      ]
     },
     "execution_count": 120,
     "metadata": {},
     "output_type": "execute_result"
    }
   ],
   "source": [
    "data.columns"
   ]
  },
  {
   "cell_type": "markdown",
   "id": "e486b2e1",
   "metadata": {},
   "source": [
    "# preprocessing"
   ]
  },
  {
   "cell_type": "code",
   "execution_count": 121,
   "id": "33edacff",
   "metadata": {},
   "outputs": [
    {
     "data": {
      "text/plain": [
       "SL                7\n",
       "SW                6\n",
       "PL                6\n",
       "PW                0\n",
       "Classification    0\n",
       "dtype: int64"
      ]
     },
     "execution_count": 121,
     "metadata": {},
     "output_type": "execute_result"
    }
   ],
   "source": [
    "#Finding missing values\n",
    "data.isna().sum()"
   ]
  },
  {
   "cell_type": "markdown",
   "id": "93fb6f28",
   "metadata": {},
   "source": [
    "# Filling missing values"
   ]
  },
  {
   "cell_type": "code",
   "execution_count": 122,
   "id": "de235c6d",
   "metadata": {},
   "outputs": [
    {
     "data": {
      "text/html": [
       "<div>\n",
       "<style scoped>\n",
       "    .dataframe tbody tr th:only-of-type {\n",
       "        vertical-align: middle;\n",
       "    }\n",
       "\n",
       "    .dataframe tbody tr th {\n",
       "        vertical-align: top;\n",
       "    }\n",
       "\n",
       "    .dataframe thead th {\n",
       "        text-align: right;\n",
       "    }\n",
       "</style>\n",
       "<table border=\"1\" class=\"dataframe\">\n",
       "  <thead>\n",
       "    <tr style=\"text-align: right;\">\n",
       "      <th></th>\n",
       "      <th>SL</th>\n",
       "      <th>SW</th>\n",
       "      <th>PL</th>\n",
       "      <th>PW</th>\n",
       "      <th>Classification</th>\n",
       "    </tr>\n",
       "  </thead>\n",
       "  <tbody>\n",
       "    <tr>\n",
       "      <th>0</th>\n",
       "      <td>5.1</td>\n",
       "      <td>3.5</td>\n",
       "      <td>1.40</td>\n",
       "      <td>0.2</td>\n",
       "      <td>Iris-setosa</td>\n",
       "    </tr>\n",
       "    <tr>\n",
       "      <th>1</th>\n",
       "      <td>4.9</td>\n",
       "      <td>3.0</td>\n",
       "      <td>1.40</td>\n",
       "      <td>0.2</td>\n",
       "      <td>Iris-setosa</td>\n",
       "    </tr>\n",
       "    <tr>\n",
       "      <th>2</th>\n",
       "      <td>5.8</td>\n",
       "      <td>3.2</td>\n",
       "      <td>1.30</td>\n",
       "      <td>0.2</td>\n",
       "      <td>Iris-setosa</td>\n",
       "    </tr>\n",
       "    <tr>\n",
       "      <th>3</th>\n",
       "      <td>4.6</td>\n",
       "      <td>3.1</td>\n",
       "      <td>1.50</td>\n",
       "      <td>0.2</td>\n",
       "      <td>Iris-setosa</td>\n",
       "    </tr>\n",
       "    <tr>\n",
       "      <th>4</th>\n",
       "      <td>5.0</td>\n",
       "      <td>3.6</td>\n",
       "      <td>1.40</td>\n",
       "      <td>0.2</td>\n",
       "      <td>Iris-setosa</td>\n",
       "    </tr>\n",
       "    <tr>\n",
       "      <th>...</th>\n",
       "      <td>...</td>\n",
       "      <td>...</td>\n",
       "      <td>...</td>\n",
       "      <td>...</td>\n",
       "      <td>...</td>\n",
       "    </tr>\n",
       "    <tr>\n",
       "      <th>145</th>\n",
       "      <td>6.7</td>\n",
       "      <td>3.0</td>\n",
       "      <td>5.20</td>\n",
       "      <td>2.3</td>\n",
       "      <td>Iris-virginica</td>\n",
       "    </tr>\n",
       "    <tr>\n",
       "      <th>146</th>\n",
       "      <td>6.3</td>\n",
       "      <td>2.5</td>\n",
       "      <td>5.00</td>\n",
       "      <td>1.9</td>\n",
       "      <td>Iris-virginica</td>\n",
       "    </tr>\n",
       "    <tr>\n",
       "      <th>147</th>\n",
       "      <td>6.5</td>\n",
       "      <td>3.0</td>\n",
       "      <td>4.35</td>\n",
       "      <td>2.0</td>\n",
       "      <td>Iris-virginica</td>\n",
       "    </tr>\n",
       "    <tr>\n",
       "      <th>148</th>\n",
       "      <td>6.2</td>\n",
       "      <td>3.4</td>\n",
       "      <td>5.40</td>\n",
       "      <td>2.3</td>\n",
       "      <td>Iris-virginica</td>\n",
       "    </tr>\n",
       "    <tr>\n",
       "      <th>149</th>\n",
       "      <td>5.9</td>\n",
       "      <td>3.0</td>\n",
       "      <td>5.10</td>\n",
       "      <td>1.8</td>\n",
       "      <td>Iris-virginica</td>\n",
       "    </tr>\n",
       "  </tbody>\n",
       "</table>\n",
       "<p>150 rows × 5 columns</p>\n",
       "</div>"
      ],
      "text/plain": [
       "      SL   SW    PL   PW  Classification\n",
       "0    5.1  3.5  1.40  0.2     Iris-setosa\n",
       "1    4.9  3.0  1.40  0.2     Iris-setosa\n",
       "2    5.8  3.2  1.30  0.2     Iris-setosa\n",
       "3    4.6  3.1  1.50  0.2     Iris-setosa\n",
       "4    5.0  3.6  1.40  0.2     Iris-setosa\n",
       "..   ...  ...   ...  ...             ...\n",
       "145  6.7  3.0  5.20  2.3  Iris-virginica\n",
       "146  6.3  2.5  5.00  1.9  Iris-virginica\n",
       "147  6.5  3.0  4.35  2.0  Iris-virginica\n",
       "148  6.2  3.4  5.40  2.3  Iris-virginica\n",
       "149  5.9  3.0  5.10  1.8  Iris-virginica\n",
       "\n",
       "[150 rows x 5 columns]"
      ]
     },
     "execution_count": 122,
     "metadata": {},
     "output_type": "execute_result"
    }
   ],
   "source": [
    "data['SL'].fillna(data['SL'].median(),inplace=True)\n",
    "data['SW'].fillna(data['SW'].median(),inplace=True)\n",
    "data['PL'].fillna(data['PL'].median(),inplace=True)\n",
    "\n",
    "data"
   ]
  },
  {
   "cell_type": "code",
   "execution_count": 123,
   "id": "e96a33e0",
   "metadata": {},
   "outputs": [
    {
     "data": {
      "text/plain": [
       "SL                0\n",
       "SW                0\n",
       "PL                0\n",
       "PW                0\n",
       "Classification    0\n",
       "dtype: int64"
      ]
     },
     "execution_count": 123,
     "metadata": {},
     "output_type": "execute_result"
    }
   ],
   "source": [
    "data.isna().sum()"
   ]
  },
  {
   "cell_type": "code",
   "execution_count": 124,
   "id": "3eaa2cf8",
   "metadata": {},
   "outputs": [
    {
     "data": {
      "image/png": "[encoded data removed]",
      "text/plain": [
       "<Figure size 1080x720 with 4 Axes>"
      ]
     },
     "metadata": {
      "needs_background": "light"
     },
     "output_type": "display_data"
    }
   ],
   "source": [
    "freqgraph=data.select_dtypes(include=[\"float64\"])\n",
    "freqgraph.hist(figsize=(15,10))\n",
    "plt.show()"
   ]
  },
  {
   "cell_type": "markdown",
   "id": "792b6391",
   "metadata": {},
   "source": [
    "# Checking for Outliers"
   ]
  },
  {
   "cell_type": "code",
   "execution_count": 125,
   "id": "6c534686",
   "metadata": {},
   "outputs": [
    {
     "data": {
      "image/png": "[encoded data removed]",
      "text/plain": [
       "<Figure size 432x288 with 1 Axes>"
      ]
     },
     "metadata": {
      "needs_background": "light"
     },
     "output_type": "display_data"
    }
   ],
   "source": [
    "boxplot = data.boxplot(column=['SL', 'SW', 'PL', 'PW'])"
   ]
  },
  {
   "cell_type": "code",
   "execution_count": 126,
   "id": "8c11951c",
   "metadata": {},
   "outputs": [
    {
     "name": "stderr",
     "output_type": "stream",
     "text": [
      "C:\\Users\\nivin\\anaconda3\\lib\\site-packages\\seaborn\\_decorators.py:36: FutureWarning: Pass the following variable as a keyword arg: x. From version 0.12, the only valid positional argument will be `data`, and passing other arguments without an explicit keyword will result in an error or misinterpretation.\n",
      "  warnings.warn(\n"
     ]
    },
    {
     "data": {
      "text/plain": [
       "<AxesSubplot:xlabel='SW'>"
      ]
     },
     "execution_count": 126,
     "metadata": {},
     "output_type": "execute_result"
    },
    {
     "data": {
      "image/png": "[encoded data removed]",
      "text/plain": [
       "<Figure size 432x288 with 1 Axes>"
      ]
     },
     "metadata": {
      "needs_background": "light"
     },
     "output_type": "display_data"
    }
   ],
   "source": [
    "sns.boxplot(data['SW'])"
   ]
  },
  {
   "cell_type": "code",
   "execution_count": 127,
   "id": "773fc7ae",
   "metadata": {},
   "outputs": [
    {
     "name": "stdout",
     "output_type": "stream",
     "text": [
      "Q1= 2.8 \n",
      "Q2= 3.0 \n",
      "Q3= 3.25\n"
     ]
    }
   ],
   "source": [
    "Q1=np.percentile(data['SW'],25,interpolation='midpoint')\n",
    "Q2=np.percentile(data['SW'],50,interpolation='midpoint')\n",
    "Q3=np.percentile(data['SW'],75,interpolation='midpoint')\n",
    "\n",
    "print('Q1=', Q1,'\\nQ2=',Q2,'\\nQ3=',Q3)"
   ]
  },
  {
   "cell_type": "code",
   "execution_count": 128,
   "id": "8344f97d",
   "metadata": {},
   "outputs": [
    {
     "name": "stdout",
     "output_type": "stream",
     "text": [
      "2.1249999999999996 \n",
      " 3.9250000000000003\n"
     ]
    }
   ],
   "source": [
    "IQR=Q3-Q1\n",
    "low_lim=Q1-1.5*IQR\n",
    "up_lim=Q3+1.5*IQR\n",
    "print(low_lim,\"\\n\",up_lim)"
   ]
  },
  {
   "cell_type": "code",
   "execution_count": 129,
   "id": "329a03ea",
   "metadata": {},
   "outputs": [
    {
     "data": {
      "text/plain": [
       "[4.0, 4.4, 4.1, 4.2, 2.0]"
      ]
     },
     "execution_count": 129,
     "metadata": {},
     "output_type": "execute_result"
    }
   ],
   "source": [
    "outlier=[]\n",
    "for x in data['SW']:\n",
    "    if((x>up_lim) or (x<low_lim)):\n",
    "        outlier.append(x)\n",
    "outlier"
   ]
  },
  {
   "cell_type": "code",
   "execution_count": 130,
   "id": "5bdde314",
   "metadata": {},
   "outputs": [
    {
     "data": {
      "text/plain": [
       "Int64Index([14, 15, 32, 33], dtype='int64')"
      ]
     },
     "execution_count": 130,
     "metadata": {},
     "output_type": "execute_result"
    }
   ],
   "source": [
    "ind=data['SW']>up_lim\n",
    "ind1=data['SW']<low_lim\n",
    "data.loc[ind].index"
   ]
  },
  {
   "cell_type": "code",
   "execution_count": 131,
   "id": "00f9df17",
   "metadata": {},
   "outputs": [
    {
     "data": {
      "text/plain": [
       "Int64Index([60], dtype='int64')"
      ]
     },
     "execution_count": 131,
     "metadata": {},
     "output_type": "execute_result"
    }
   ],
   "source": [
    "data.loc[ind1].index"
   ]
  },
  {
   "cell_type": "code",
   "execution_count": 132,
   "id": "396210f4",
   "metadata": {},
   "outputs": [],
   "source": [
    "data.drop([14,15,32,33,60],inplace=True)"
   ]
  },
  {
   "cell_type": "markdown",
   "id": "9ad10440",
   "metadata": {},
   "source": [
    "# Scaling "
   ]
  },
  {
   "cell_type": "code",
   "execution_count": 134,
   "id": "22216e58",
   "metadata": {},
   "outputs": [
    {
     "data": {
      "text/html": [
       "<div>\n",
       "<style scoped>\n",
       "    .dataframe tbody tr th:only-of-type {\n",
       "        vertical-align: middle;\n",
       "    }\n",
       "\n",
       "    .dataframe tbody tr th {\n",
       "        vertical-align: top;\n",
       "    }\n",
       "\n",
       "    .dataframe thead th {\n",
       "        text-align: right;\n",
       "    }\n",
       "</style>\n",
       "<table border=\"1\" class=\"dataframe\">\n",
       "  <thead>\n",
       "    <tr style=\"text-align: right;\">\n",
       "      <th></th>\n",
       "      <th>SL</th>\n",
       "      <th>SW</th>\n",
       "      <th>PL</th>\n",
       "      <th>PW</th>\n",
       "    </tr>\n",
       "  </thead>\n",
       "  <tbody>\n",
       "    <tr>\n",
       "      <th>count</th>\n",
       "      <td>145.000000</td>\n",
       "      <td>145.000000</td>\n",
       "      <td>145.000000</td>\n",
       "      <td>145.000000</td>\n",
       "    </tr>\n",
       "    <tr>\n",
       "      <th>mean</th>\n",
       "      <td>5.867586</td>\n",
       "      <td>3.023448</td>\n",
       "      <td>3.847586</td>\n",
       "      <td>1.226897</td>\n",
       "    </tr>\n",
       "    <tr>\n",
       "      <th>std</th>\n",
       "      <td>0.816827</td>\n",
       "      <td>0.374354</td>\n",
       "      <td>1.712265</td>\n",
       "      <td>0.758219</td>\n",
       "    </tr>\n",
       "    <tr>\n",
       "      <th>min</th>\n",
       "      <td>4.300000</td>\n",
       "      <td>2.200000</td>\n",
       "      <td>1.000000</td>\n",
       "      <td>0.100000</td>\n",
       "    </tr>\n",
       "    <tr>\n",
       "      <th>25%</th>\n",
       "      <td>5.200000</td>\n",
       "      <td>2.800000</td>\n",
       "      <td>1.600000</td>\n",
       "      <td>0.300000</td>\n",
       "    </tr>\n",
       "    <tr>\n",
       "      <th>50%</th>\n",
       "      <td>5.800000</td>\n",
       "      <td>3.000000</td>\n",
       "      <td>4.350000</td>\n",
       "      <td>1.300000</td>\n",
       "    </tr>\n",
       "    <tr>\n",
       "      <th>75%</th>\n",
       "      <td>6.400000</td>\n",
       "      <td>3.200000</td>\n",
       "      <td>5.100000</td>\n",
       "      <td>1.800000</td>\n",
       "    </tr>\n",
       "    <tr>\n",
       "      <th>max</th>\n",
       "      <td>7.900000</td>\n",
       "      <td>3.900000</td>\n",
       "      <td>6.900000</td>\n",
       "      <td>2.500000</td>\n",
       "    </tr>\n",
       "  </tbody>\n",
       "</table>\n",
       "</div>"
      ],
      "text/plain": [
       "               SL          SW          PL          PW\n",
       "count  145.000000  145.000000  145.000000  145.000000\n",
       "mean     5.867586    3.023448    3.847586    1.226897\n",
       "std      0.816827    0.374354    1.712265    0.758219\n",
       "min      4.300000    2.200000    1.000000    0.100000\n",
       "25%      5.200000    2.800000    1.600000    0.300000\n",
       "50%      5.800000    3.000000    4.350000    1.300000\n",
       "75%      6.400000    3.200000    5.100000    1.800000\n",
       "max      7.900000    3.900000    6.900000    2.500000"
      ]
     },
     "execution_count": 134,
     "metadata": {},
     "output_type": "execute_result"
    }
   ],
   "source": [
    "from sklearn import preprocessing\n",
    "x=data.drop('Classification',axis=1)\n",
    "x.describe()"
   ]
  },
  {
   "cell_type": "code",
   "execution_count": 135,
   "id": "c3fdfecb",
   "metadata": {},
   "outputs": [],
   "source": [
    "min_max=preprocessing.MinMaxScaler(feature_range=(0,1))\n",
    "x=min_max.fit_transform(x)\n",
    "x=pd.DataFrame(x)"
   ]
  },
  {
   "cell_type": "code",
   "execution_count": 136,
   "id": "56981265",
   "metadata": {},
   "outputs": [
    {
     "data": {
      "text/html": [
       "<div>\n",
       "<style scoped>\n",
       "    .dataframe tbody tr th:only-of-type {\n",
       "        vertical-align: middle;\n",
       "    }\n",
       "\n",
       "    .dataframe tbody tr th {\n",
       "        vertical-align: top;\n",
       "    }\n",
       "\n",
       "    .dataframe thead th {\n",
       "        text-align: right;\n",
       "    }\n",
       "</style>\n",
       "<table border=\"1\" class=\"dataframe\">\n",
       "  <thead>\n",
       "    <tr style=\"text-align: right;\">\n",
       "      <th></th>\n",
       "      <th>0</th>\n",
       "      <th>1</th>\n",
       "      <th>2</th>\n",
       "      <th>3</th>\n",
       "    </tr>\n",
       "  </thead>\n",
       "  <tbody>\n",
       "    <tr>\n",
       "      <th>count</th>\n",
       "      <td>145.000000</td>\n",
       "      <td>145.000000</td>\n",
       "      <td>145.000000</td>\n",
       "      <td>145.000000</td>\n",
       "    </tr>\n",
       "    <tr>\n",
       "      <th>mean</th>\n",
       "      <td>0.435441</td>\n",
       "      <td>0.484381</td>\n",
       "      <td>0.482642</td>\n",
       "      <td>0.469540</td>\n",
       "    </tr>\n",
       "    <tr>\n",
       "      <th>std</th>\n",
       "      <td>0.226896</td>\n",
       "      <td>0.220208</td>\n",
       "      <td>0.290214</td>\n",
       "      <td>0.315925</td>\n",
       "    </tr>\n",
       "    <tr>\n",
       "      <th>min</th>\n",
       "      <td>0.000000</td>\n",
       "      <td>0.000000</td>\n",
       "      <td>0.000000</td>\n",
       "      <td>0.000000</td>\n",
       "    </tr>\n",
       "    <tr>\n",
       "      <th>25%</th>\n",
       "      <td>0.250000</td>\n",
       "      <td>0.352941</td>\n",
       "      <td>0.101695</td>\n",
       "      <td>0.083333</td>\n",
       "    </tr>\n",
       "    <tr>\n",
       "      <th>50%</th>\n",
       "      <td>0.416667</td>\n",
       "      <td>0.470588</td>\n",
       "      <td>0.567797</td>\n",
       "      <td>0.500000</td>\n",
       "    </tr>\n",
       "    <tr>\n",
       "      <th>75%</th>\n",
       "      <td>0.583333</td>\n",
       "      <td>0.588235</td>\n",
       "      <td>0.694915</td>\n",
       "      <td>0.708333</td>\n",
       "    </tr>\n",
       "    <tr>\n",
       "      <th>max</th>\n",
       "      <td>1.000000</td>\n",
       "      <td>1.000000</td>\n",
       "      <td>1.000000</td>\n",
       "      <td>1.000000</td>\n",
       "    </tr>\n",
       "  </tbody>\n",
       "</table>\n",
       "</div>"
      ],
      "text/plain": [
       "                0           1           2           3\n",
       "count  145.000000  145.000000  145.000000  145.000000\n",
       "mean     0.435441    0.484381    0.482642    0.469540\n",
       "std      0.226896    0.220208    0.290214    0.315925\n",
       "min      0.000000    0.000000    0.000000    0.000000\n",
       "25%      0.250000    0.352941    0.101695    0.083333\n",
       "50%      0.416667    0.470588    0.567797    0.500000\n",
       "75%      0.583333    0.588235    0.694915    0.708333\n",
       "max      1.000000    1.000000    1.000000    1.000000"
      ]
     },
     "execution_count": 136,
     "metadata": {},
     "output_type": "execute_result"
    }
   ],
   "source": [
    "x.describe()"
   ]
  },
  {
   "cell_type": "code",
   "execution_count": 153,
   "id": "c3784104",
   "metadata": {},
   "outputs": [
    {
     "data": {
      "text/plain": [
       "<AxesSubplot:>"
      ]
     },
     "execution_count": 153,
     "metadata": {},
     "output_type": "execute_result"
    },
    {
     "data": {
      "image/png": "[encoded data removed]",
      "text/plain": [
       "<Figure size 1440x576 with 2 Axes>"
      ]
     },
     "metadata": {
      "needs_background": "light"
     },
     "output_type": "display_data"
    }
   ],
   "source": [
    "#Feature Reduction\n",
    "corr=data.corr()\n",
    "plt.subplots(figsize=(20,8))\n",
    "sns.heatmap(corr,vmin=0.2,vmax=0.9,annot=True,linewidth=0.2)"
   ]
  },
  {
   "cell_type": "markdown",
   "id": "2a7db18a",
   "metadata": {},
   "source": [
    "since we don't have enough coloumns ,so we don't required feature reduction"
   ]
  },
  {
   "cell_type": "code",
   "execution_count": 137,
   "id": "8ec02ecb",
   "metadata": {},
   "outputs": [
    {
     "data": {
      "text/html": [
       "<div>\n",
       "<style scoped>\n",
       "    .dataframe tbody tr th:only-of-type {\n",
       "        vertical-align: middle;\n",
       "    }\n",
       "\n",
       "    .dataframe tbody tr th {\n",
       "        vertical-align: top;\n",
       "    }\n",
       "\n",
       "    .dataframe thead th {\n",
       "        text-align: right;\n",
       "    }\n",
       "</style>\n",
       "<table border=\"1\" class=\"dataframe\">\n",
       "  <thead>\n",
       "    <tr style=\"text-align: right;\">\n",
       "      <th></th>\n",
       "      <th>SL</th>\n",
       "      <th>SW</th>\n",
       "      <th>PL</th>\n",
       "      <th>PW</th>\n",
       "      <th>Classification</th>\n",
       "    </tr>\n",
       "  </thead>\n",
       "  <tbody>\n",
       "    <tr>\n",
       "      <th>0</th>\n",
       "      <td>5.1</td>\n",
       "      <td>3.5</td>\n",
       "      <td>1.40</td>\n",
       "      <td>0.2</td>\n",
       "      <td>0</td>\n",
       "    </tr>\n",
       "    <tr>\n",
       "      <th>1</th>\n",
       "      <td>4.9</td>\n",
       "      <td>3.0</td>\n",
       "      <td>1.40</td>\n",
       "      <td>0.2</td>\n",
       "      <td>0</td>\n",
       "    </tr>\n",
       "    <tr>\n",
       "      <th>2</th>\n",
       "      <td>5.8</td>\n",
       "      <td>3.2</td>\n",
       "      <td>1.30</td>\n",
       "      <td>0.2</td>\n",
       "      <td>0</td>\n",
       "    </tr>\n",
       "    <tr>\n",
       "      <th>3</th>\n",
       "      <td>4.6</td>\n",
       "      <td>3.1</td>\n",
       "      <td>1.50</td>\n",
       "      <td>0.2</td>\n",
       "      <td>0</td>\n",
       "    </tr>\n",
       "    <tr>\n",
       "      <th>4</th>\n",
       "      <td>5.0</td>\n",
       "      <td>3.6</td>\n",
       "      <td>1.40</td>\n",
       "      <td>0.2</td>\n",
       "      <td>0</td>\n",
       "    </tr>\n",
       "    <tr>\n",
       "      <th>...</th>\n",
       "      <td>...</td>\n",
       "      <td>...</td>\n",
       "      <td>...</td>\n",
       "      <td>...</td>\n",
       "      <td>...</td>\n",
       "    </tr>\n",
       "    <tr>\n",
       "      <th>145</th>\n",
       "      <td>6.7</td>\n",
       "      <td>3.0</td>\n",
       "      <td>5.20</td>\n",
       "      <td>2.3</td>\n",
       "      <td>2</td>\n",
       "    </tr>\n",
       "    <tr>\n",
       "      <th>146</th>\n",
       "      <td>6.3</td>\n",
       "      <td>2.5</td>\n",
       "      <td>5.00</td>\n",
       "      <td>1.9</td>\n",
       "      <td>2</td>\n",
       "    </tr>\n",
       "    <tr>\n",
       "      <th>147</th>\n",
       "      <td>6.5</td>\n",
       "      <td>3.0</td>\n",
       "      <td>4.35</td>\n",
       "      <td>2.0</td>\n",
       "      <td>2</td>\n",
       "    </tr>\n",
       "    <tr>\n",
       "      <th>148</th>\n",
       "      <td>6.2</td>\n",
       "      <td>3.4</td>\n",
       "      <td>5.40</td>\n",
       "      <td>2.3</td>\n",
       "      <td>2</td>\n",
       "    </tr>\n",
       "    <tr>\n",
       "      <th>149</th>\n",
       "      <td>5.9</td>\n",
       "      <td>3.0</td>\n",
       "      <td>5.10</td>\n",
       "      <td>1.8</td>\n",
       "      <td>2</td>\n",
       "    </tr>\n",
       "  </tbody>\n",
       "</table>\n",
       "<p>145 rows × 5 columns</p>\n",
       "</div>"
      ],
      "text/plain": [
       "      SL   SW    PL   PW  Classification\n",
       "0    5.1  3.5  1.40  0.2               0\n",
       "1    4.9  3.0  1.40  0.2               0\n",
       "2    5.8  3.2  1.30  0.2               0\n",
       "3    4.6  3.1  1.50  0.2               0\n",
       "4    5.0  3.6  1.40  0.2               0\n",
       "..   ...  ...   ...  ...             ...\n",
       "145  6.7  3.0  5.20  2.3               2\n",
       "146  6.3  2.5  5.00  1.9               2\n",
       "147  6.5  3.0  4.35  2.0               2\n",
       "148  6.2  3.4  5.40  2.3               2\n",
       "149  5.9  3.0  5.10  1.8               2\n",
       "\n",
       "[145 rows x 5 columns]"
      ]
     },
     "execution_count": 137,
     "metadata": {},
     "output_type": "execute_result"
    }
   ],
   "source": [
    "from sklearn import preprocessing\n",
    "lab_e = preprocessing.LabelEncoder()\n",
    "data['Classification']= lab_e.fit_transform(data['Classification'])\n",
    "data"
   ]
  },
  {
   "cell_type": "markdown",
   "id": "395a522d",
   "metadata": {},
   "source": [
    "# Modelling"
   ]
  },
  {
   "cell_type": "code",
   "execution_count": 138,
   "id": "eaadab35",
   "metadata": {},
   "outputs": [
    {
     "data": {
      "text/plain": [
       "2    50\n",
       "1    49\n",
       "0    46\n",
       "Name: Classification, dtype: int64"
      ]
     },
     "execution_count": 138,
     "metadata": {},
     "output_type": "execute_result"
    }
   ],
   "source": [
    "y=data['Classification']\n",
    "y.value_counts()"
   ]
  },
  {
   "cell_type": "code",
   "execution_count": 139,
   "id": "e66a4975",
   "metadata": {},
   "outputs": [],
   "source": [
    "#Splitting the data\n",
    "from sklearn.model_selection import train_test_split\n",
    "x_train,x_test,y_train,y_test=train_test_split(x,y,test_size=0.2,random_state=42)"
   ]
  },
  {
   "cell_type": "code",
   "execution_count": 140,
   "id": "b0855dee",
   "metadata": {},
   "outputs": [],
   "source": [
    "from sklearn.linear_model import LogisticRegression\n",
    "log_reg= LogisticRegression()\n",
    "log_model= log_reg.fit(x_train,y_train)\n",
    "pred= log_model.predict(x_test)"
   ]
  },
  {
   "cell_type": "markdown",
   "id": "09e54cc3",
   "metadata": {},
   "source": [
    "# LOGISITC REGRESSION"
   ]
  },
  {
   "cell_type": "code",
   "execution_count": 141,
   "id": "e81c779c",
   "metadata": {},
   "outputs": [
    {
     "name": "stdout",
     "output_type": "stream",
     "text": [
      "accuracy is:  0.931\n",
      "Precision is:  0.931\n",
      "recall score is:  0.931\n",
      "f1 score is:  0.931\n"
     ]
    }
   ],
   "source": [
    "from sklearn.metrics import confusion_matrix,accuracy_score,precision_score,recall_score,f1_score\n",
    "\n",
    "print('accuracy is: ',round(accuracy_score(y_test,pred),4))\n",
    "print('Precision is: ',round(precision_score(y_test,pred,average='micro'),4))\n",
    "print('recall score is: ',round(recall_score(y_test,pred,average='micro'),4))\n",
    "print('f1 score is: ',round(f1_score(y_test,pred,average='micro'),4))"
   ]
  },
  {
   "cell_type": "code",
   "execution_count": 142,
   "id": "d28ae25c",
   "metadata": {},
   "outputs": [
    {
     "data": {
      "text/plain": [
       "array([[9, 0, 0],\n",
       "       [0, 9, 0],\n",
       "       [0, 2, 9]], dtype=int64)"
      ]
     },
     "execution_count": 142,
     "metadata": {},
     "output_type": "execute_result"
    }
   ],
   "source": [
    "confusion_matrix(y_test,y_pred)"
   ]
  },
  {
   "cell_type": "markdown",
   "id": "7b304732",
   "metadata": {},
   "source": [
    "# KNN"
   ]
  },
  {
   "cell_type": "code",
   "execution_count": 143,
   "id": "c54d77a9",
   "metadata": {},
   "outputs": [],
   "source": [
    "from sklearn.neighbors import KNeighborsClassifier\n",
    "from sklearn.metrics import f1_score,accuracy_score, precision_score, recall_score,confusion_matrix"
   ]
  },
  {
   "cell_type": "code",
   "execution_count": 144,
   "id": "9d7f8d6c",
   "metadata": {},
   "outputs": [],
   "source": [
    "acc_values=[]\n",
    "neighbors= np.arange(3,15)\n",
    "for k in neighbors:\n",
    "    classifier= KNeighborsClassifier(n_neighbors=k,metric='minkowski')\n",
    "    knn_model= classifier.fit(x_train,y_train)\n",
    "    y_predict= knn_model.predict(x_test)\n",
    "    acc= accuracy_score(y_test,y_predict)\n",
    "    acc_values.append(acc)"
   ]
  },
  {
   "cell_type": "code",
   "execution_count": 145,
   "id": "04395b01",
   "metadata": {},
   "outputs": [
    {
     "data": {
      "text/plain": [
       "[0.9310344827586207,\n",
       " 0.9310344827586207,\n",
       " 0.9310344827586207,\n",
       " 0.896551724137931,\n",
       " 0.9310344827586207,\n",
       " 0.896551724137931,\n",
       " 0.9310344827586207,\n",
       " 0.896551724137931,\n",
       " 0.9310344827586207,\n",
       " 0.896551724137931,\n",
       " 0.9310344827586207,\n",
       " 0.896551724137931]"
      ]
     },
     "execution_count": 145,
     "metadata": {},
     "output_type": "execute_result"
    }
   ],
   "source": [
    "acc_values"
   ]
  },
  {
   "cell_type": "code",
   "execution_count": 146,
   "id": "929e77fc",
   "metadata": {},
   "outputs": [
    {
     "data": {
      "image/png": "[encoded data removed]",
      "text/plain": [
       "<Figure size 432x288 with 1 Axes>"
      ]
     },
     "metadata": {
      "needs_background": "light"
     },
     "output_type": "display_data"
    }
   ],
   "source": [
    "plt.plot(neighbors,acc_values,'o-')\n",
    "plt.xlabel('K-Values')\n",
    "plt.ylabel('Accuracy')\n",
    "plt.title('Accuracy for K-value')\n",
    "plt.show()"
   ]
  },
  {
   "cell_type": "code",
   "execution_count": 147,
   "id": "7d71df05",
   "metadata": {},
   "outputs": [],
   "source": [
    "classifier= KNeighborsClassifier(n_neighbors=9,metric='minkowski')\n",
    "knn_model= classifier.fit(x_train,y_train)\n",
    "y_predict= knn_model.predict(x_test)"
   ]
  },
  {
   "cell_type": "code",
   "execution_count": 158,
   "id": "9f24fc47",
   "metadata": {},
   "outputs": [
    {
     "name": "stdout",
     "output_type": "stream",
     "text": [
      "accuracy is:  0.931\n",
      "Precision is:  0.931\n",
      "recall score is:  0.931\n",
      "f1 score is:  0.931\n"
     ]
    }
   ],
   "source": [
    "print('accuracy is: ',round(accuracy_score(y_test,y_predict),4))\n",
    "print('Precision is: ',round(precision_score(y_test,y_predict,average='micro'),4))\n",
    "print('recall score is: ',round(recall_score(y_test,y_predict,average='micro'),4))\n",
    "print('f1 score is: ',round(f1_score(y_test,y_predict,average='micro'),4))"
   ]
  },
  {
   "cell_type": "code",
   "execution_count": 159,
   "id": "25fc95df",
   "metadata": {},
   "outputs": [
    {
     "data": {
      "text/plain": [
       "array([[ 9,  0,  0],\n",
       "       [ 0,  8,  1],\n",
       "       [ 0,  1, 10]], dtype=int64)"
      ]
     },
     "execution_count": 159,
     "metadata": {},
     "output_type": "execute_result"
    }
   ],
   "source": [
    "confusion_matrix(y_test,y_predict)"
   ]
  },
  {
   "cell_type": "markdown",
   "id": "6d1166bd",
   "metadata": {},
   "source": [
    "# RANDOM FOREST ALGORITHAM"
   ]
  },
  {
   "cell_type": "code",
   "execution_count": 149,
   "id": "f3696a44",
   "metadata": {},
   "outputs": [
    {
     "name": "stdout",
     "output_type": "stream",
     "text": [
      "accuracy is:  0.896551724137931\n",
      "Precision is:  0.896551724137931\n",
      "recall score is:  0.896551724137931\n",
      "f1 score is:  0.896551724137931\n"
     ]
    }
   ],
   "source": [
    "from sklearn.ensemble import RandomForestClassifier\n",
    "\n",
    "\n",
    "rf = RandomForestClassifier()\n",
    "rf.fit(x_train, y_train)\n",
    "pred = rf.predict(x_test)\n",
    "\n",
    "print('accuracy is: ',accuracy_score(y_test,pred))\n",
    "print('Precision is: ',precision_score(y_test,pred,average='micro'))\n",
    "print('recall score is: ',recall_score(y_test,pred,average='micro'))\n",
    "print('f1 score is: ',f1_score(y_test,pred,average='micro'))"
   ]
  },
  {
   "cell_type": "code",
   "execution_count": 150,
   "id": "dac12805",
   "metadata": {},
   "outputs": [
    {
     "data": {
      "text/plain": [
       "array([[9, 0, 0],\n",
       "       [0, 9, 0],\n",
       "       [0, 2, 9]], dtype=int64)"
      ]
     },
     "execution_count": 150,
     "metadata": {},
     "output_type": "execute_result"
    }
   ],
   "source": [
    "confusion_matrix(y_test,y_pred)"
   ]
  },
  {
   "cell_type": "markdown",
   "id": "b3afb9ad",
   "metadata": {},
   "source": [
    "# DECISION TREE"
   ]
  },
  {
   "cell_type": "code",
   "execution_count": 154,
   "id": "b3882760",
   "metadata": {},
   "outputs": [],
   "source": [
    "from sklearn.tree import DecisionTreeClassifier\n",
    "dt=DecisionTreeClassifier()\n",
    "dt_model= dt.fit(x_train,y_train)\n",
    "pred3= dt_model.predict(x_test)"
   ]
  },
  {
   "cell_type": "code",
   "execution_count": 155,
   "id": "30f45372",
   "metadata": {},
   "outputs": [
    {
     "name": "stdout",
     "output_type": "stream",
     "text": [
      "accuracy is:  0.896551724137931\n",
      "Precision is:  0.896551724137931\n",
      "recall score is:  0.896551724137931\n",
      "f1 score is:  0.896551724137931\n"
     ]
    }
   ],
   "source": [
    "print('accuracy is: ',accuracy_score(y_test,pred3))\n",
    "print('Precision is: ',precision_score(y_test,pred3,average='micro'))\n",
    "print('recall score is: ',recall_score(y_test,pred3,average='micro'))\n",
    "print('f1 score is: ',f1_score(y_test,pred3,average='micro'))"
   ]
  },
  {
   "cell_type": "markdown",
   "id": "ee75d9af",
   "metadata": {},
   "source": [
    "# SVM MODEL"
   ]
  },
  {
   "cell_type": "code",
   "execution_count": 151,
   "id": "71e569b9",
   "metadata": {},
   "outputs": [
    {
     "name": "stdout",
     "output_type": "stream",
     "text": [
      "accuracy is:  0.896551724137931\n",
      "Precision is:  0.896551724137931\n",
      "recall score is:  0.896551724137931\n",
      "f1 score is:  0.896551724137931\n"
     ]
    }
   ],
   "source": [
    "from sklearn.svm import SVC\n",
    "\n",
    "\n",
    "svm_linear = SVC(kernel=\"linear\")\n",
    "svm_linear.fit(x_train, y_train)\n",
    "pred  =svm_linear.predict(x_test)\n",
    "\n",
    "print('accuracy is: ',accuracy_score(y_test,pred))\n",
    "print('Precision is: ',precision_score(y_test,pred,average='micro'))\n",
    "print('recall score is: ',recall_score(y_test,pred,average='micro'))\n",
    "print('f1 score is: ',f1_score(y_test,pred,average='micro'))"
   ]
  },
  {
   "cell_type": "code",
   "execution_count": 152,
   "id": "6145a29c",
   "metadata": {},
   "outputs": [
    {
     "data": {
      "text/plain": [
       "array([[9, 0, 0],\n",
       "       [0, 9, 0],\n",
       "       [0, 2, 9]], dtype=int64)"
      ]
     },
     "execution_count": 152,
     "metadata": {},
     "output_type": "execute_result"
    }
   ],
   "source": [
    "#Confusion matrix\n",
    "confusion_matrix(y_test,y_pred)"
   ]
  },
  {
   "cell_type": "markdown",
   "id": "ef941164",
   "metadata": {},
   "source": [
    "Acoording to the above models,KNN is the best suitable model"
   ]
  },
  {
   "cell_type": "code",
   "execution_count": null,
   "id": "7b23789d",
   "metadata": {},
   "outputs": [],
   "source": []
  }
 ],
 "metadata": {
  "kernelspec": {
   "display_name": "Python 3 (ipykernel)",
   "language": "python",
   "name": "python3"
  },
  "language_info": {
   "codemirror_mode": {
    "name": "ipython",
    "version": 3
   },
   "file_extension": ".py",
   "mimetype": "text/x-python",
   "name": "python",
   "nbconvert_exporter": "python",
   "pygments_lexer": "ipython3",
   "version": "3.9.12"
  }
 },
 "nbformat": 4,
 "nbformat_minor": 5
}
